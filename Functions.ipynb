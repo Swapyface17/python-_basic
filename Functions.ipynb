{
 "cells": [
  {
   "cell_type": "code",
   "execution_count": 1,
   "id": "fe176fcd",
   "metadata": {},
   "outputs": [],
   "source": [
    "expenses_sergey = [30,40,50,60,70]\n",
    "expenses_sundar = [23,240,250,260,370]"
   ]
  },
  {
   "cell_type": "code",
   "execution_count": 10,
   "id": "ece4e2b7",
   "metadata": {},
   "outputs": [],
   "source": [
    "\n",
    "def total_exp (expenses):\n",
    "    total = 0 \n",
    "    for i in expenses:\n",
    "        total += i\n",
    "    return total\n"
   ]
  },
  {
   "cell_type": "code",
   "execution_count": 11,
   "id": "9860c072",
   "metadata": {
    "scrolled": true
   },
   "outputs": [
    {
     "name": "stdout",
     "output_type": "stream",
     "text": [
      "250\n"
     ]
    }
   ],
   "source": [
    "r = (total_exp(expenses_sergey))\n",
    "\n",
    "print(r)"
   ]
  },
  {
   "cell_type": "markdown",
   "id": "e6381630",
   "metadata": {},
   "source": [
    "Write a python function to check if any given number is a prime number and odd number?\n",
    "\n"
   ]
  },
  {
   "cell_type": "code",
   "execution_count": null,
   "id": "be5e9fbd",
   "metadata": {},
   "outputs": [],
   "source": [
    "def check_num(number):\n",
    "    if number% 2 != 0 and :\n",
    "        print(\"prime number\")"
   ]
  }
 ],
 "metadata": {
  "kernelspec": {
   "display_name": "Python 3 (ipykernel)",
   "language": "python",
   "name": "python3"
  },
  "language_info": {
   "codemirror_mode": {
    "name": "ipython",
    "version": 3
   },
   "file_extension": ".py",
   "mimetype": "text/x-python",
   "name": "python",
   "nbconvert_exporter": "python",
   "pygments_lexer": "ipython3",
   "version": "3.8.8"
  }
 },
 "nbformat": 4,
 "nbformat_minor": 5
}

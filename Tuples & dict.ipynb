{
 "cells": [
  {
   "cell_type": "code",
   "execution_count": 1,
   "id": "20135e5e",
   "metadata": {},
   "outputs": [],
   "source": [
    "salaries = {\n",
    "\t'python': { 'junior': '100k', 'senior': '600k' },\n",
    "\t'php': { 'junior': '70k', 'senior': '400k' },\n",
    "\t'java': { 'junior': '80k', 'senior': '500k' },\n",
    "\t}"
   ]
  },
  {
   "cell_type": "code",
   "execution_count": 3,
   "id": "4a26fb0a",
   "metadata": {
    "scrolled": true
   },
   "outputs": [
    {
     "data": {
      "text/plain": [
       "'600k'"
      ]
     },
     "execution_count": 3,
     "metadata": {},
     "output_type": "execute_result"
    }
   ],
   "source": [
    "salaries['python']['senior']"
   ]
  },
  {
   "cell_type": "code",
   "execution_count": null,
   "id": "52c609a4",
   "metadata": {},
   "outputs": [],
   "source": [
    "#Create a list of your friends' names and now create a list of tuples. The tuple should contain the friend’s name and the length of the name. For Example: if someone’s name is Aditya, the tuple would be: (‘Aditya’, 6)"
   ]
  },
  {
   "cell_type": "code",
   "execution_count": 4,
   "id": "7a10025a",
   "metadata": {},
   "outputs": [],
   "source": [
    "friends = [('Aditya', 6),('swapnil',7)]"
   ]
  },
  {
   "cell_type": "code",
   "execution_count": null,
   "id": "096ec832",
   "metadata": {},
   "outputs": [],
   "source": []
  }
 ],
 "metadata": {
  "kernelspec": {
   "display_name": "Python 3 (ipykernel)",
   "language": "python",
   "name": "python3"
  },
  "language_info": {
   "codemirror_mode": {
    "name": "ipython",
    "version": 3
   },
   "file_extension": ".py",
   "mimetype": "text/x-python",
   "name": "python",
   "nbconvert_exporter": "python",
   "pygments_lexer": "ipython3",
   "version": "3.8.8"
  }
 },
 "nbformat": 4,
 "nbformat_minor": 5
}

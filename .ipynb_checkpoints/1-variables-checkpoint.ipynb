{
 "cells": [
  {
   "cell_type": "markdown",
   "metadata": {
    "id": "QAGsAcQXOm1c"
   },
   "source": [
    "# 1 Variable\n",
    "\n",
    "Excercise solution for variables"
   ]
  },
  {
   "cell_type": "markdown",
   "metadata": {
    "id": "Z9V13S9-O5hf"
   },
   "source": [
    "1. Create a variable named pi and store the value 22/7 in it. Now check the data type of this variable.\n",
    "2. Create a variable called for and assign it a value 4. See what happens and find out the reason behind the behavior that you see.\n",
    "3. Store the principal amount, rate of interest and time in different variables and then calculate the Simple Interest for 3 years \n"
   ]
  },
  {
   "cell_type": "code",
   "execution_count": null,
   "metadata": {
    "id": "5DbTb-5gOecw"
   },
   "outputs": [],
   "source": [
    "# creating variable named pi\n",
    "pi = 22/7"
   ]
  },
  {
   "cell_type": "code",
   "execution_count": null,
   "metadata": {
    "colab": {
     "base_uri": "https://localhost:8080/"
    },
    "id": "lhYIkj4WPNA_",
    "outputId": "714b44ae-e309-45d2-c29d-6617cbecc508"
   },
   "outputs": [
    {
     "name": "stdout",
     "output_type": "stream",
     "text": [
      "3.142857142857143\n"
     ]
    }
   ],
   "source": [
    "print(pi)"
   ]
  },
  {
   "cell_type": "code",
   "execution_count": null,
   "metadata": {
    "colab": {
     "base_uri": "https://localhost:8080/"
    },
    "id": "VzxH3ly_POxS",
    "outputId": "e5723459-a55a-4e24-93fc-5afe1a99ca60"
   },
   "outputs": [
    {
     "data": {
      "text/plain": [
       "float"
      ]
     },
     "execution_count": 3,
     "metadata": {},
     "output_type": "execute_result"
    }
   ],
   "source": [
    "# checking the datatype\n",
    "type(pi)"
   ]
  },
  {
   "cell_type": "code",
   "execution_count": null,
   "metadata": {
    "colab": {
     "base_uri": "https://localhost:8080/",
     "height": 130
    },
    "id": "qHskWLeFPUSa",
    "outputId": "45d183f1-a28a-4e80-aee3-90d984dbbfae"
   },
   "outputs": [
    {
     "ename": "SyntaxError",
     "evalue": "ignored",
     "output_type": "error",
     "traceback": [
      "\u001b[0;36m  File \u001b[0;32m\"<ipython-input-4-585a7d10ca85>\"\u001b[0;36m, line \u001b[0;32m2\u001b[0m\n\u001b[0;31m    for = 4\u001b[0m\n\u001b[0m        ^\u001b[0m\n\u001b[0;31mSyntaxError\u001b[0m\u001b[0;31m:\u001b[0m invalid syntax\n"
     ]
    }
   ],
   "source": [
    "# 2. creating for variable\n",
    "for = 4"
   ]
  },
  {
   "cell_type": "markdown",
   "metadata": {
    "id": "KY5wA7VfPpV2"
   },
   "source": [
    "SyntaxError occured becuase for is a reserved keyword in python. We cannot use reserved keywords for making variable names.\n",
    "\n",
    "Solution for this is:"
   ]
  },
  {
   "cell_type": "code",
   "execution_count": null,
   "metadata": {
    "colab": {
     "base_uri": "https://localhost:8080/"
    },
    "id": "2QF8B3pgPkah",
    "outputId": "04606879-69d4-4986-cb9b-1c0b33493dc1"
   },
   "outputs": [
    {
     "name": "stdout",
     "output_type": "stream",
     "text": [
      "4\n"
     ]
    }
   ],
   "source": [
    "for_ = 4\n",
    "print(for_)"
   ]
  },
  {
   "cell_type": "markdown",
   "metadata": {
    "id": "VUcb1nMDQGzw"
   },
   "source": [
    "It did work this time"
   ]
  },
  {
   "cell_type": "code",
   "execution_count": null,
   "metadata": {
    "id": "h-7Ro-oVQDVB"
   },
   "outputs": [],
   "source": [
    "# 3. Calculate Simple Interest\n",
    "principle_amount = 567.00\n",
    "rate_of_interest = 5.6\n",
    "time = 3\n"
   ]
  },
  {
   "cell_type": "markdown",
   "metadata": {
    "id": "vlTW7195RAUb"
   },
   "source": [
    "Now let's calculate the simple intrest using simple math formula:\n",
    "\n",
    "`simple interest  = P x R x T / 100`\n",
    "\n",
    "where: \n",
    " \n",
    "    P = principle amount\n",
    "    R = rate of interest\n",
    "    T = time \n",
    "\n"
   ]
  },
  {
   "cell_type": "code",
   "execution_count": null,
   "metadata": {
    "id": "36-AbY5WQemi"
   },
   "outputs": [],
   "source": [
    "simple_interest = principle_amount * rate_of_interest * time / 100"
   ]
  },
  {
   "cell_type": "code",
   "execution_count": null,
   "metadata": {
    "colab": {
     "base_uri": "https://localhost:8080/"
    },
    "id": "0R1eEXEDQrZB",
    "outputId": "2bcd1830-d62d-4381-c752-9f90ef564eb0"
   },
   "outputs": [
    {
     "name": "stdout",
     "output_type": "stream",
     "text": [
      "95.25599999999999\n"
     ]
    }
   ],
   "source": [
    "print(simple_interest)"
   ]
  },
  {
   "cell_type": "code",
   "execution_count": null,
   "metadata": {
    "colab": {
     "base_uri": "https://localhost:8080/"
    },
    "id": "PbTPVTLRQvIZ",
    "outputId": "cc739c02-fcba-4058-acd4-df5684c4fa22"
   },
   "outputs": [
    {
     "name": "stdout",
     "output_type": "stream",
     "text": [
      "<class 'float'>\n"
     ]
    }
   ],
   "source": [
    "print(type(simple_interest))"
   ]
  },
  {
   "cell_type": "code",
   "execution_count": null,
   "metadata": {
    "colab": {
     "base_uri": "https://localhost:8080/"
    },
    "id": "6OXTiuuIQyu4",
    "outputId": "effe44d7-640a-44a5-f9a7-8d3a9c3cbbc6"
   },
   "outputs": [
    {
     "name": "stdout",
     "output_type": "stream",
     "text": [
      "662.256\n"
     ]
    }
   ],
   "source": [
    "# total amount after including interest\n",
    "\n",
    "total_amount = principle_amount + simple_interest\n",
    "print(total_amount)"
   ]
  },
  {
   "cell_type": "code",
   "execution_count": null,
   "metadata": {
    "id": "c2a6OmlsSIag"
   },
   "outputs": [],
   "source": []
  },
  {
   "cell_type": "markdown",
   "metadata": {
    "id": "HvZp2DbDSK_t"
   },
   "source": [
    "Thank you,\n",
    "\n",
    "Happy Coding!"
   ]
  },
  {
   "cell_type": "code",
   "execution_count": null,
   "metadata": {
    "id": "yuCV4ir6SPld"
   },
   "outputs": [],
   "source": []
  }
 ],
 "metadata": {
  "colab": {
   "collapsed_sections": [],
   "name": "1_Variables.ipynb",
   "provenance": []
  },
  "kernelspec": {
   "display_name": "Python 3 (ipykernel)",
   "language": "python",
   "name": "python3"
  },
  "language_info": {
   "codemirror_mode": {
    "name": "ipython",
    "version": 3
   },
   "file_extension": ".py",
   "mimetype": "text/x-python",
   "name": "python",
   "nbconvert_exporter": "python",
   "pygments_lexer": "ipython3",
   "version": "3.8.8"
  }
 },
 "nbformat": 4,
 "nbformat_minor": 1
}

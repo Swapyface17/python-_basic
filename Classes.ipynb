{
 "cells": [
  {
   "cell_type": "code",
   "execution_count": 22,
   "id": "3f931591",
   "metadata": {},
   "outputs": [
    {
     "name": "stdout",
     "output_type": "stream",
     "text": [
      "Virat Ave is : - 67.5\n",
      "david age is : -  38\n",
      "david Ave is : - 45.0\n"
     ]
    }
   ],
   "source": [
    "import datetime\n",
    "class CricketPlayers:\n",
    "    def __init__(self,fname,lname,birth_year,team,):\n",
    "        self.first_name = fname\n",
    "        self.last_name = lname\n",
    "        self.birth_year = birth_year\n",
    "        self.team = team\n",
    "        self.scores = []\n",
    "\n",
    "    def get_age(self):\n",
    "        now = datetime.datetime.now() \n",
    "        return now.year - self.birth_year\n",
    "    \n",
    "    def add_score(self,score):\n",
    "        self.scores.append(score)\n",
    "        \n",
    "    def get_ave(self):\n",
    "        return sum(self.scores)/len(self.scores)\n",
    "        \n",
    "    def __lt__(self,other):\n",
    "        my_score = self.get_ave()\n",
    "        other_score = other.get_ave()\n",
    "        return my_score < other_score\n",
    "    \n",
    "    def __str__(self):\n",
    "        return \n",
    "    \n",
    "virat = CricketPlayers('Virat','kohli', 1988, 'india')\n",
    "virat.add_score(80)\n",
    "virat.add_score(90)\n",
    "virat.add_score(0)\n",
    "virat.add_score(100)\n",
    "\n",
    "\n",
    "david = CricketPlayers('david','warner', 1985, 'aus')\n",
    "david.add_score(10)\n",
    "david.add_score(30)\n",
    "david.add_score(50)\n",
    "david.add_score(90)\n",
    "\n",
    "print(\"Virat Ave is : -\",virat.get_ave())\n",
    "# print(virat.scores)\n",
    "\n",
    "print(\"david age is : - \", david.get_age())\n",
    "print(\"david Ave is : -\",david.get_ave())\n",
    "\n",
    "        \n",
    "    \n",
    "\n"
   ]
  }
 ],
 "metadata": {
  "kernelspec": {
   "display_name": "Python 3 (ipykernel)",
   "language": "python",
   "name": "python3"
  },
  "language_info": {
   "codemirror_mode": {
    "name": "ipython",
    "version": 3
   },
   "file_extension": ".py",
   "mimetype": "text/x-python",
   "name": "python",
   "nbconvert_exporter": "python",
   "pygments_lexer": "ipython3",
   "version": "3.8.8"
  }
 },
 "nbformat": 4,
 "nbformat_minor": 5
}

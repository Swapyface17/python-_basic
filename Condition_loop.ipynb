{
 "cells": [
  {
   "cell_type": "code",
   "execution_count": null,
   "id": "2512e0fe",
   "metadata": {
    "scrolled": true
   },
   "outputs": [],
   "source": [
    "n = input(\"enter a number : \")"
   ]
  },
  {
   "cell_type": "code",
   "execution_count": null,
   "id": "de8b9543",
   "metadata": {},
   "outputs": [],
   "source": [
    "n = int(n)"
   ]
  },
  {
   "cell_type": "code",
   "execution_count": null,
   "id": "2bb938d5",
   "metadata": {},
   "outputs": [],
   "source": [
    "type(n)"
   ]
  },
  {
   "cell_type": "code",
   "execution_count": null,
   "id": "1d077e00",
   "metadata": {},
   "outputs": [],
   "source": [
    "if n % 2 == 0:\n",
    "    print(\"number is even\")\n",
    "else :\n",
    "    print('number is odd')"
   ]
  },
  {
   "cell_type": "code",
   "execution_count": null,
   "id": "cd2da24e",
   "metadata": {
    "scrolled": true
   },
   "outputs": [],
   "source": [
    "4 % 2 == 0 "
   ]
  },
  {
   "cell_type": "code",
   "execution_count": null,
   "id": "a7f7252e",
   "metadata": {},
   "outputs": [],
   "source": [
    "4%3 == 1"
   ]
  },
  {
   "cell_type": "code",
   "execution_count": null,
   "id": "549db57b",
   "metadata": {},
   "outputs": [],
   "source": [
    "not 4% 2 == 1"
   ]
  },
  {
   "cell_type": "code",
   "execution_count": null,
   "id": "22f05d1a",
   "metadata": {
    "scrolled": false
   },
   "outputs": [],
   "source": [
    "indian = ['daal', 'roti', 'samosa']\n",
    "chinese  = ['fried rice', 'choimin', 'egg role']\n",
    "italian = ['pesto','pizza','rosto']\n",
    "\n",
    "dish = input('enter the dish name : - ' )\n",
    "\n",
    "if dish in indian:\n",
    "    print(f'{dish} is in indian')\n",
    "elif dish in chinese:\n",
    "    print(f'{dish} is in chinise')\n",
    "else:\n",
    "    print(f'{dish} is in italian')\n",
    "    \n"
   ]
  },
  {
   "cell_type": "code",
   "execution_count": null,
   "id": "b51e6ec6",
   "metadata": {},
   "outputs": [],
   "source": []
  },
  {
   "cell_type": "code",
   "execution_count": null,
   "id": "a6dd3e37",
   "metadata": {},
   "outputs": [],
   "source": [
    "message  = \"number is even\" if n % 2 == 0 else \"number is odd\"\n",
    "print (message)"
   ]
  },
  {
   "cell_type": "markdown",
   "id": "0a00e5ba",
   "metadata": {},
   "source": [
    "Write a program that can tell you your BMI Category.\n",
    "\n",
    "Ask user to enter height\n",
    "\n",
    "Ask user to enter weight\n",
    "\n",
    "Calculate the BMI(Body Mass Index = weight / height 2) and store it in a variable\n",
    "\n",
    "If the BMI is 30 or greater, print “Obesity”\n",
    "\n",
    "If the BMI is in between 25 and 29, print “Overweight”\n",
    "\n",
    "If the BMI is in between 18.5 and 25, print “Normal”\n",
    "\n",
    "If the BMI is less than 18.5, print “Underweight”"
   ]
  },
  {
   "cell_type": "code",
   "execution_count": null,
   "id": "359daa15",
   "metadata": {},
   "outputs": [],
   "source": [
    "height = float (input(\" enter height in cm : \"))\n",
    "weight = float(input (\"enter the weight in kg : \"))\n",
    "BMI = (weight)/(height**2)\n",
    "BMI\n",
    "    \n"
   ]
  },
  {
   "cell_type": "code",
   "execution_count": null,
   "id": "6ade5350",
   "metadata": {},
   "outputs": [],
   "source": []
  },
  {
   "cell_type": "code",
   "execution_count": null,
   "id": "0c879fcf",
   "metadata": {},
   "outputs": [],
   "source": [
    "if BMI  >= 30 :\n",
    "    print(f\"your BMI is {BMI} and category is Obesity\")\n",
    "elif 25 <= bmi < 29.9:\n",
    "    print(f\"your BMI is {BMI} and category is Overweight\")\n",
    "elif 18.5 <= bmi < 24.9:\n",
    "    print(f\"your BMI is {BMI} and category is Normal\")\n",
    "else : \n",
    "    print(f\"your BMI is {BMI} and category is Underweight\")\n",
    "    "
   ]
  },
  {
   "cell_type": "code",
   "execution_count": null,
   "id": "1b7890f4",
   "metadata": {
    "scrolled": true
   },
   "outputs": [],
   "source": [
    "# Function to calculate BMI\n",
    "def calculate_bmi(weight_kg, height_m):\n",
    "    bmi = weight_kg / (height_m ** 2)\n",
    "    return bmi\n",
    "\n",
    "# Input from the user\n",
    "weight_kg = float(input(\"Enter your weight in kilograms: \"))\n",
    "height_m = float(input(\"Enter your height in meters: \"))\n",
    "\n",
    "# Calculate BMI\n",
    "bmi = calculate_bmi(weight_kg, height_m)\n",
    "\n",
    "# Display the result\n",
    "print(\"Your BMI is:\", bmi)\n",
    "\n",
    "# Interpretation of BMI \n",
    "if bmi < 18.5:\n",
    "    print(\"You are underweight.\")\n",
    "elif 18.5 <= bmi < 24.9:\n",
    "    print(\"You have a normal weight.\")\n",
    "elif 25 <= bmi < 29.9:\n",
    "    print(\"You are overweight.\")\n",
    "else:\n",
    "    print(\"You are obese.\")\n"
   ]
  },
  {
   "cell_type": "code",
   "execution_count": null,
   "id": "a631da7b",
   "metadata": {},
   "outputs": [],
   "source": [
    "India = [\"Mumbai\", \"Bangalore\", \"Chennai\", \"Delhi\"]\n",
    "USA = [\"New York\",\"Chicago\",\"Las Vegas\", \"San Francisco\"]\n",
    "UK = [\"London\", \"Manchester\", \"Liverpool\", \"Nottingham\"]\n"
   ]
  },
  {
   "cell_type": "code",
   "execution_count": null,
   "id": "f0d876fe",
   "metadata": {
    "scrolled": true
   },
   "outputs": [],
   "source": [
    "city1 = input('enter the city name : ')\n",
    "city2 = input('enter the city name : ')\n"
   ]
  },
  {
   "cell_type": "code",
   "execution_count": null,
   "id": "f38d4153",
   "metadata": {},
   "outputs": [],
   "source": [
    "if city in India :\n",
    "    print(f\"{city} belongs to india\")\n",
    "elif city  in USA:\n",
    "    print(f\"{city} belongs to USA\")\n",
    "elif city in UK :\n",
    "    print(f\"{city} belongs to UK\")\n",
    "else:\n",
    "    print(f\"{city} is not in the list\")"
   ]
  },
  {
   "cell_type": "markdown",
   "id": "773646e8",
   "metadata": {},
   "source": [
    "Write a program that asks users to enter two cities, and it tells you if they both are in the same country or nor />\n",
    "For example:\n",
    "If I enter Mumbai and Chennai, it will print \"Both cities are in India\" but if I enter Mumbai and New York it should print \"They don't belong to the same country\""
   ]
  },
  {
   "cell_type": "code",
   "execution_count": null,
   "id": "667b99d2",
   "metadata": {},
   "outputs": [],
   "source": [
    "if city1 in India and city2 in India :\n",
    "    print(\"india\")\n",
    "elif city1 in UK  and city2 in UK :\n",
    "    print(\"UK\")\n",
    "elif city1 in USA and city2 in USA :\n",
    "    print(\"USA\")\n",
    "    \n",
    "else :\n",
    "    print(\"They don't belong to the same country\")"
   ]
  },
  {
   "cell_type": "code",
   "execution_count": null,
   "id": "a24c1a31",
   "metadata": {},
   "outputs": [],
   "source": [
    "#loops"
   ]
  },
  {
   "cell_type": "code",
   "execution_count": null,
   "id": "3f85ed53",
   "metadata": {},
   "outputs": [],
   "source": [
    "expenses = [1200,1400,1600,1800,2000]\n",
    "\n",
    "total_expense = 0 \n",
    "\n",
    "for expense in expenses:\n",
    "    total_expense = expense + total_expense\n",
    "    \n",
    "print(total_expense)"
   ]
  },
  {
   "cell_type": "code",
   "execution_count": null,
   "id": "83a40cbb",
   "metadata": {},
   "outputs": [],
   "source": [
    "expenses = [1200,1400,1600,1800,2000]\n",
    "total_expense = 0 \n",
    "#for i in range(len(expenses)):\n",
    "for i, expense in enumerate(expenses):\n",
    "    #expense = expenses[i]\n",
    "    #print(i)\n",
    "    #print(expenses[i])\n",
    "    print(f'Month is {i+1} and expense is: {expense}')\n",
    "    total_expense += expense\n",
    "print(f\"total expense is {total_expense}\")\n",
    "    \n"
   ]
  },
  {
   "cell_type": "code",
   "execution_count": null,
   "id": "7a7b1a0c",
   "metadata": {},
   "outputs": [],
   "source": [
    "r1  = [1200,1400,1600,2100,5000]\n",
    "for a , exp in enumerate (r1):\n",
    "    if exp > 2000 :\n",
    "        print(f'month {a+1} has more than 2000 expense')\n",
    "        break\n"
   ]
  },
  {
   "cell_type": "code",
   "execution_count": null,
   "id": "b61c1edf",
   "metadata": {},
   "outputs": [],
   "source": [
    "for l in 'SkillBasics':\n",
    "    if l == 'i':\n",
    "        continue\n",
    "    print(l, end='')"
   ]
  },
  {
   "cell_type": "code",
   "execution_count": null,
   "id": "f1b371de",
   "metadata": {},
   "outputs": [],
   "source": [
    "count=0\n",
    "transactions = [(456, 'f'), (45,'b'), (459, 'f')]\n",
    "for transaction in transactions:\n",
    "    if transaction[1]!='f':\n",
    "        count+=1"
   ]
  },
  {
   "cell_type": "code",
   "execution_count": null,
   "id": "114b15f1",
   "metadata": {
    "scrolled": false
   },
   "outputs": [],
   "source": [
    "print(count)"
   ]
  },
  {
   "cell_type": "markdown",
   "id": "082305a2",
   "metadata": {},
   "source": [
    "#Write a Python program to print the following pattern.\n",
    "1 2 3 4 5\n",
    "1 2 3 4 \n",
    "1 2 3\n",
    "1 2\n",
    "1"
   ]
  },
  {
   "cell_type": "code",
   "execution_count": null,
   "id": "b2694eb4",
   "metadata": {},
   "outputs": [],
   "source": [
    "n = 6\n",
    "\n",
    "for i in range (n, 1 , -1) :\n",
    "    for j in range (1,i):\n",
    "        print(j,end=\" \")\n",
    "    print()"
   ]
  },
  {
   "cell_type": "markdown",
   "id": "e6861298",
   "metadata": {},
   "source": [
    "Write a Python program to find the sum of all the numbers except odd numbers between 1 and 20 using a loop. Can you also do this using a while loop?"
   ]
  },
  {
   "cell_type": "code",
   "execution_count": 5,
   "id": "e2e7e778",
   "metadata": {},
   "outputs": [
    {
     "name": "stdout",
     "output_type": "stream",
     "text": [
      "sum of i 110\n"
     ]
    }
   ],
   "source": [
    "Count = 0 \n",
    "for i in range (1,21):\n",
    "    if i% 2 != 0:\n",
    "        continue\n",
    "    else :\n",
    "        Count = Count + i\n",
    "print(\"sum of i\", Count)"
   ]
  },
  {
   "cell_type": "markdown",
   "id": "5b4dc9d6",
   "metadata": {},
   "source": [
    "After throwing the dice several times, you got this result,\n",
    "\n",
    "dice_result  = [5,6,4,2,5,4,4,5,3,3,2,6,1,2,1,1,6,5]\n",
    "Using a for loop find out the followings:\n",
    "\n",
    "How many times have you got 6s\n",
    "\n",
    "How many times have you got 1s\n",
    "\n",
    "How many times have you got 6s two times in a row"
   ]
  },
  {
   "cell_type": "code",
   "execution_count": 16,
   "id": "020d1dac",
   "metadata": {},
   "outputs": [],
   "source": [
    "    dice_result  = [5,6,6,2,5,4,4,5,3,3,2,6,1,2,b,6,5]"
   ]
  },
  {
   "cell_type": "code",
   "execution_count": 11,
   "id": "bd436235",
   "metadata": {},
   "outputs": [
    {
     "name": "stdout",
     "output_type": "stream",
     "text": [
      "3 times got 6s \n",
      " 3 times got 1s\n"
     ]
    }
   ],
   "source": [
    "count_6 = 0\n",
    "count_1 = 0\n",
    "row_6\n",
    "for i in dice_result:\n",
    "    if i == 6 :\n",
    "        count_6 += 1\n",
    "    elif i == 1:\n",
    "        count_1 += 1\n",
    "    else:\n",
    "        continue\n",
    "    \n",
    "print (f'{count_6} times got 6s ')\n",
    "print (f'{count_1} times got 1s')\n"
   ]
  },
  {
   "cell_type": "code",
   "execution_count": 24,
   "id": "bc4d09ea",
   "metadata": {},
   "outputs": [
    {
     "name": "stdout",
     "output_type": "stream",
     "text": [
      "4\n"
     ]
    }
   ],
   "source": [
    "row_6 = 0 \n",
    "for t in range(l - 1):\n",
    "    if  dice_result[t] == dice_result[t+1] :\n",
    "        row_6 += 1\n",
    "print(row_6)"
   ]
  },
  {
   "cell_type": "code",
   "execution_count": 18,
   "id": "f5d3be06",
   "metadata": {},
   "outputs": [
    {
     "name": "stdout",
     "output_type": "stream",
     "text": [
      "1\n"
     ]
    }
   ],
   "source": [
    "two_6s = 0\n",
    "l = len(dice_result)\n",
    "\n",
    "for i in range(l - 1):\n",
    "    if dice_result[i] == 6 and dice_result[i+1] == 6:\n",
    "        two_6s += 1\n",
    "\n",
    "print(two_6s)\n",
    "    "
   ]
  },
  {
   "cell_type": "code",
   "execution_count": 21,
   "id": "bd5172a4",
   "metadata": {
    "scrolled": true
   },
   "outputs": [
    {
     "name": "stdout",
     "output_type": "stream",
     "text": [
      "5\n",
      "6\n",
      "6\n",
      "2\n",
      "5\n",
      "4\n",
      "4\n",
      "5\n",
      "3\n",
      "3\n",
      "2\n",
      "6\n",
      "1\n",
      "2\n",
      "1\n",
      "1\n",
      "6\n",
      "5\n"
     ]
    }
   ],
   "source": [
    "for i in dice_result:\n",
    "    print(i)"
   ]
  },
  {
   "cell_type": "markdown",
   "id": "d3c3537b",
   "metadata": {},
   "source": [
    "Let's say you are doing push-ups and you have to complete 50 push-ups daily, write a program that,\n",
    "\n",
    "Upon completing 10 push-ups in a go, asks you, “Are you tired?”\n",
    "\n",
    "If you reply “yes” or “y” then it should break and print “You did total push-ups.”\n",
    "\n",
    "For example: If you did only 30  push-ups and answered “yes” to your program. It will break the loop and print “You did a total of 30 push-ups**”**\n",
    "\n",
    "If you reply “no” or “n” then it should continue and display how many push-ups are remaining  now after that ask you again “Are you tired?”\n",
    "\n",
    "For Example: if you answered “no” then it should display that 20 push-ups are remaining and ask you again “Are you tired?”\n",
    "\n",
    "If you complete all 50 push-ups, then it should print the “Congratulations! You made it” and stopped the program.\n",
    " \n",
    "\n"
   ]
  },
  {
   "cell_type": "code",
   "execution_count": 28,
   "id": "079dc44b",
   "metadata": {},
   "outputs": [
    {
     "name": "stderr",
     "output_type": "stream",
     "text": [
      "<>:5: SyntaxWarning: \"is\" with a literal. Did you mean \"==\"?\n",
      "<>:5: SyntaxWarning: \"is\" with a literal. Did you mean \"==\"?\n",
      "/var/folders/np/l7lt9gbj2sj9swp_rh7x0rlr0000gn/T/ipykernel_53216/2880038339.py:5: SyntaxWarning: \"is\" with a literal. Did you mean \"==\"?\n",
      "  if ans is 'Y' or 'yes':\n"
     ]
    },
    {
     "name": "stdout",
     "output_type": "stream",
     "text": [
      "Are you tired? (yes/no)Y\n",
      "10\n"
     ]
    }
   ],
   "source": [
    "ans = ''\n",
    "for  r in range (1,51):\n",
    "    if r == 10  :\n",
    "        ans = input(\"Are you tired? (yes/no)\")\n",
    "        if ans is 'Y' or 'yes':\n",
    "            break\n",
    "        else:\n",
    "            \n",
    "print(r)\n",
    "            \n",
    "        \n",
    "              \n"
   ]
  }
 ],
 "metadata": {
  "kernelspec": {
   "display_name": "Python 3 (ipykernel)",
   "language": "python",
   "name": "python3"
  },
  "language_info": {
   "codemirror_mode": {
    "name": "ipython",
    "version": 3
   },
   "file_extension": ".py",
   "mimetype": "text/x-python",
   "name": "python",
   "nbconvert_exporter": "python",
   "pygments_lexer": "ipython3",
   "version": "3.8.8"
  }
 },
 "nbformat": 4,
 "nbformat_minor": 5
}
